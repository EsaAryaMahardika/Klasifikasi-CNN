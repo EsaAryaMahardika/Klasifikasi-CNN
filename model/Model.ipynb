{
  "cells": [
    {
      "cell_type": "markdown",
      "id": "K0tZx7xlEYR3",
      "metadata": {
        "id": "K0tZx7xlEYR3"
      },
      "source": [
        "# Imports Libraries and Tools"
      ]
    },
    {
      "cell_type": "code",
      "execution_count": 46,
      "id": "786a2a29",
      "metadata": {
        "_cell_guid": "a7ed25f9-18fa-420a-94b8-b9074f24fb6b",
        "_uuid": "83f5cc3c-35c7-41a2-881a-9fcb19dde075",
        "execution": {
          "iopub.execute_input": "2023-04-15T05:02:32.202802Z",
          "iopub.status.busy": "2023-04-15T05:02:32.202040Z",
          "iopub.status.idle": "2023-04-15T05:02:39.347581Z",
          "shell.execute_reply": "2023-04-15T05:02:39.346399Z"
        },
        "id": "786a2a29",
        "jupyter": {
          "outputs_hidden": false
        },
        "papermill": {
          "duration": 7.159977,
          "end_time": "2023-04-15T05:02:39.350456",
          "exception": false,
          "start_time": "2023-04-15T05:02:32.190479",
          "status": "completed"
        },
        "tags": []
      },
      "outputs": [],
      "source": [
        "import os  #untuk operasi sistem file\n",
        "import numpy as np  #untukk menangani data gambar dalma bentuk array\n",
        "import random  #untuk generating random values for augmentation\n",
        "from PIL import Image, ImageEnhance  # untuk memproses gambar dan meningkatkan kualitas\n",
        "from tensorflow.keras.preprocessing.image import load_img  #untuk memuat gmbar\n",
        "from tensorflow.keras.models import Sequential  #untuk membangun model & menambahkan lapisan\n",
        "from tensorflow.keras.layers import Input, Flatten, Dropout, Dense  #mendefinisikan lapisan\n",
        "from tensorflow.keras.optimizers import Adam  #optimasi \n",
        "from tensorflow.keras.applications import VGG16  #untuk transfer learning imagenet\n",
        "from sklearn.utils import shuffle  #untuk mengacak data agar tidk hafal\n",
        "import matplotlib.pyplot as plt\n",
        "from sklearn.metrics import classification_report, confusion_matrix\n",
        "import seaborn as sns\n"
      ]
    },
    {
      "cell_type": "markdown",
      "id": "e2c06d95",
      "metadata": {
        "_cell_guid": "074fdd99-5eff-4697-8034-fd9349ae9f97",
        "_uuid": "efb11ffc-2929-401e-8d98-9515c5955eac",
        "id": "e2c06d95",
        "papermill": {
          "duration": 0.011138,
          "end_time": "2023-04-15T05:02:39.371864",
          "exception": false,
          "start_time": "2023-04-15T05:02:39.360726",
          "status": "completed"
        },
        "tags": []
      },
      "source": [
        "# Load Datasets"
      ]
    },
    {
      "cell_type": "code",
      "execution_count": 47,
      "id": "b39c25ef",
      "metadata": {
        "_cell_guid": "29c6bf43-4cfb-4673-83e0-2bc113d83999",
        "_uuid": "ef78d0ef-c282-4796-9709-18e59f5fad08",
        "execution": {
          "iopub.execute_input": "2023-04-15T05:02:39.413731Z",
          "iopub.status.busy": "2023-04-15T05:02:39.412779Z",
          "iopub.status.idle": "2023-04-15T05:02:39.798433Z",
          "shell.execute_reply": "2023-04-15T05:02:39.797299Z"
        },
        "id": "b39c25ef",
        "jupyter": {
          "outputs_hidden": false
        },
        "papermill": {
          "duration": 0.399316,
          "end_time": "2023-04-15T05:02:39.801001",
          "exception": false,
          "start_time": "2023-04-15T05:02:39.401685",
          "status": "completed"
        },
        "tags": []
      },
      "outputs": [],
      "source": [
        "#menentukan lokasi file training\n",
        "train_dir = r\"D:\\Ara\\Dataset\\train\"\n",
        "\n",
        "#memuat data- latih\n",
        "train_paths = []\n",
        "train_labels = []\n",
        "for label in os.listdir(train_dir):\n",
        "    for image in os.listdir(os.path.join(train_dir, label)):\n",
        "        train_paths.append(os.path.join(train_dir, label, image))\n",
        "        train_labels.append(label)\n",
        "\n",
        "train_paths, train_labels = shuffle(train_paths, train_labels)\n",
        "\n",
        "test_dir = r\"D:\\Ara\\Dataset\\valid\"\n",
        "test_paths = []\n",
        "test_labels = []\n",
        "for label in os.listdir(test_dir):\n",
        "    for image in os.listdir(os.path.join(test_dir, label)):\n",
        "        test_paths.append(os.path.join(test_dir, label, image))\n",
        "        test_labels.append(label)\n",
        "\n",
        "test_paths, test_labels = shuffle(test_paths, test_labels)"
      ]
    },
    {
      "cell_type": "markdown",
      "id": "52241baf",
      "metadata": {
        "_cell_guid": "78f54eb1-2054-48b2-a688-20f59808e882",
        "_uuid": "de5b69c9-f1b5-4ed2-8759-de377a6211ea",
        "id": "52241baf",
        "papermill": {
          "duration": 0.027443,
          "end_time": "2023-04-15T05:02:40.462854",
          "exception": false,
          "start_time": "2023-04-15T05:02:40.435411",
          "status": "completed"
        },
        "tags": []
      },
      "source": [
        "# Image Preprocessing (Helper Functions)"
      ]
    },
    {
      "cell_type": "code",
      "execution_count": 48,
      "id": "9f0efff4",
      "metadata": {
        "_cell_guid": "f97a6f44-8660-4671-b6f0-6100adc356bf",
        "_uuid": "4899e957-de14-4156-90a7-d04855083d37",
        "execution": {
          "iopub.execute_input": "2023-04-15T05:02:40.521212Z",
          "iopub.status.busy": "2023-04-15T05:02:40.520529Z",
          "iopub.status.idle": "2023-04-15T05:02:40.525759Z",
          "shell.execute_reply": "2023-04-15T05:02:40.525041Z"
        },
        "id": "9f0efff4",
        "jupyter": {
          "outputs_hidden": false
        },
        "papermill": {
          "duration": 0.019644,
          "end_time": "2023-04-15T05:02:40.527883",
          "exception": false,
          "start_time": "2023-04-15T05:02:40.508239",
          "status": "completed"
        },
        "tags": []
      },
      "outputs": [],
      "source": [
        "#fungsi unutk mengaugmentasi\n",
        "def augment_image(image):\n",
        "    image = Image.fromarray(np.uint8(image))\n",
        "    image = ImageEnhance.Brightness(image).enhance(random.uniform(0.8, 1.2))  #kecerahan acak\n",
        "    image = ImageEnhance.Contrast(image).enhance(random.uniform(0.8, 1.2))  #kontras acak\n",
        "    image = np.array(image) / 255.0  #menormalisasi nilai pixel menjadi (o.1)\n",
        "    return image\n",
        "\n",
        "#mengmabil gambar\n",
        "def open_images(paths):\n",
        "    images = []\n",
        "    for path in paths:\n",
        "        image = load_img(path, target_size=(IMAGE_SIZE, IMAGE_SIZE))\n",
        "        image = augment_image(image)\n",
        "        images.append(image)\n",
        "    return np.array(images)\n",
        "\n",
        "# mengganti nama menjadi angka\n",
        "def encode_label(labels):\n",
        "    unique_labels = os.listdir(train_dir)  #menentukann label unik di direktori\n",
        "    encoded = [unique_labels.index(label) for label in labels]\n",
        "    return np.array(encoded)\n",
        "\n",
        "#datagen untuk mengambil tiap batch \n",
        "def datagen(paths, labels, batch_size=12, epochs=1):\n",
        "    for _ in range(epochs):\n",
        "        for i in range(0, len(paths), batch_size):\n",
        "            batch_paths = paths[i:i + batch_size]\n",
        "            batch_images = open_images(batch_paths)  #membuka dan mengaugmentasi\n",
        "            batch_labels = labels[i:i + batch_size]\n",
        "            batch_labels = encode_label(batch_labels)  #mengkodekan labelnya\n",
        "            yield batch_images, batch_labels  #hasil satu batch"
      ]
    },
    {
      "cell_type": "code",
      "execution_count": 49,
      "id": "9fa272d5",
      "metadata": {
        "_cell_guid": "b3014b6a-f76f-47f6-829e-712e45a07dab",
        "_uuid": "8ca6e14d-c13f-44e7-a3c4-76dd8ce72df5",
        "colab": {
          "base_uri": "https://localhost:8080/"
        },
        "execution": {
          "iopub.execute_input": "2023-04-15T05:02:41.218955Z",
          "iopub.status.busy": "2023-04-15T05:02:41.218139Z",
          "iopub.status.idle": "2023-04-15T05:02:44.403571Z",
          "shell.execute_reply": "2023-04-15T05:02:44.402639Z"
        },
        "id": "9fa272d5",
        "jupyter": {
          "outputs_hidden": false
        },
        "outputId": "5fde3974-3665-4ba9-aab8-65a977127376",
        "papermill": {
          "duration": 3.203511,
          "end_time": "2023-04-15T05:02:44.406241",
          "exception": false,
          "start_time": "2023-04-15T05:02:41.202730",
          "status": "completed"
        },
        "tags": []
      },
      "outputs": [
        {
          "data": {
            "text/html": [
              "<pre style=\"white-space:pre;overflow-x:auto;line-height:normal;font-family:Menlo,'DejaVu Sans Mono',consolas,'Courier New',monospace\"><span style=\"font-weight: bold\">Model: \"sequential_5\"</span>\n",
              "</pre>\n"
            ],
            "text/plain": [
              "\u001b[1mModel: \"sequential_5\"\u001b[0m\n"
            ]
          },
          "metadata": {},
          "output_type": "display_data"
        },
        {
          "data": {
            "text/html": [
              "<pre style=\"white-space:pre;overflow-x:auto;line-height:normal;font-family:Menlo,'DejaVu Sans Mono',consolas,'Courier New',monospace\">┏━━━━━━━━━━━━━━━━━━━━━━━━━━━━━━━━━┳━━━━━━━━━━━━━━━━━━━━━━━━┳━━━━━━━━━━━━━━━┓\n",
              "┃<span style=\"font-weight: bold\"> Layer (type)                    </span>┃<span style=\"font-weight: bold\"> Output Shape           </span>┃<span style=\"font-weight: bold\">       Param # </span>┃\n",
              "┡━━━━━━━━━━━━━━━━━━━━━━━━━━━━━━━━━╇━━━━━━━━━━━━━━━━━━━━━━━━╇━━━━━━━━━━━━━━━┩\n",
              "│ vgg16 (<span style=\"color: #0087ff; text-decoration-color: #0087ff\">Functional</span>)              │ (<span style=\"color: #00d7ff; text-decoration-color: #00d7ff\">None</span>, <span style=\"color: #00af00; text-decoration-color: #00af00\">4</span>, <span style=\"color: #00af00; text-decoration-color: #00af00\">4</span>, <span style=\"color: #00af00; text-decoration-color: #00af00\">512</span>)      │    <span style=\"color: #00af00; text-decoration-color: #00af00\">14,714,688</span> │\n",
              "├─────────────────────────────────┼────────────────────────┼───────────────┤\n",
              "│ flatten_5 (<span style=\"color: #0087ff; text-decoration-color: #0087ff\">Flatten</span>)             │ (<span style=\"color: #00d7ff; text-decoration-color: #00d7ff\">None</span>, <span style=\"color: #00af00; text-decoration-color: #00af00\">8192</span>)           │             <span style=\"color: #00af00; text-decoration-color: #00af00\">0</span> │\n",
              "├─────────────────────────────────┼────────────────────────┼───────────────┤\n",
              "│ dropout_10 (<span style=\"color: #0087ff; text-decoration-color: #0087ff\">Dropout</span>)            │ (<span style=\"color: #00d7ff; text-decoration-color: #00d7ff\">None</span>, <span style=\"color: #00af00; text-decoration-color: #00af00\">8192</span>)           │             <span style=\"color: #00af00; text-decoration-color: #00af00\">0</span> │\n",
              "├─────────────────────────────────┼────────────────────────┼───────────────┤\n",
              "│ dense_10 (<span style=\"color: #0087ff; text-decoration-color: #0087ff\">Dense</span>)                │ (<span style=\"color: #00d7ff; text-decoration-color: #00d7ff\">None</span>, <span style=\"color: #00af00; text-decoration-color: #00af00\">128</span>)            │     <span style=\"color: #00af00; text-decoration-color: #00af00\">1,048,704</span> │\n",
              "├─────────────────────────────────┼────────────────────────┼───────────────┤\n",
              "│ dropout_11 (<span style=\"color: #0087ff; text-decoration-color: #0087ff\">Dropout</span>)            │ (<span style=\"color: #00d7ff; text-decoration-color: #00d7ff\">None</span>, <span style=\"color: #00af00; text-decoration-color: #00af00\">128</span>)            │             <span style=\"color: #00af00; text-decoration-color: #00af00\">0</span> │\n",
              "├─────────────────────────────────┼────────────────────────┼───────────────┤\n",
              "│ dense_11 (<span style=\"color: #0087ff; text-decoration-color: #0087ff\">Dense</span>)                │ (<span style=\"color: #00d7ff; text-decoration-color: #00d7ff\">None</span>, <span style=\"color: #00af00; text-decoration-color: #00af00\">5</span>)              │           <span style=\"color: #00af00; text-decoration-color: #00af00\">645</span> │\n",
              "└─────────────────────────────────┴────────────────────────┴───────────────┘\n",
              "</pre>\n"
            ],
            "text/plain": [
              "┏━━━━━━━━━━━━━━━━━━━━━━━━━━━━━━━━━┳━━━━━━━━━━━━━━━━━━━━━━━━┳━━━━━━━━━━━━━━━┓\n",
              "┃\u001b[1m \u001b[0m\u001b[1mLayer (type)                   \u001b[0m\u001b[1m \u001b[0m┃\u001b[1m \u001b[0m\u001b[1mOutput Shape          \u001b[0m\u001b[1m \u001b[0m┃\u001b[1m \u001b[0m\u001b[1m      Param #\u001b[0m\u001b[1m \u001b[0m┃\n",
              "┡━━━━━━━━━━━━━━━━━━━━━━━━━━━━━━━━━╇━━━━━━━━━━━━━━━━━━━━━━━━╇━━━━━━━━━━━━━━━┩\n",
              "│ vgg16 (\u001b[38;5;33mFunctional\u001b[0m)              │ (\u001b[38;5;45mNone\u001b[0m, \u001b[38;5;34m4\u001b[0m, \u001b[38;5;34m4\u001b[0m, \u001b[38;5;34m512\u001b[0m)      │    \u001b[38;5;34m14,714,688\u001b[0m │\n",
              "├─────────────────────────────────┼────────────────────────┼───────────────┤\n",
              "│ flatten_5 (\u001b[38;5;33mFlatten\u001b[0m)             │ (\u001b[38;5;45mNone\u001b[0m, \u001b[38;5;34m8192\u001b[0m)           │             \u001b[38;5;34m0\u001b[0m │\n",
              "├─────────────────────────────────┼────────────────────────┼───────────────┤\n",
              "│ dropout_10 (\u001b[38;5;33mDropout\u001b[0m)            │ (\u001b[38;5;45mNone\u001b[0m, \u001b[38;5;34m8192\u001b[0m)           │             \u001b[38;5;34m0\u001b[0m │\n",
              "├─────────────────────────────────┼────────────────────────┼───────────────┤\n",
              "│ dense_10 (\u001b[38;5;33mDense\u001b[0m)                │ (\u001b[38;5;45mNone\u001b[0m, \u001b[38;5;34m128\u001b[0m)            │     \u001b[38;5;34m1,048,704\u001b[0m │\n",
              "├─────────────────────────────────┼────────────────────────┼───────────────┤\n",
              "│ dropout_11 (\u001b[38;5;33mDropout\u001b[0m)            │ (\u001b[38;5;45mNone\u001b[0m, \u001b[38;5;34m128\u001b[0m)            │             \u001b[38;5;34m0\u001b[0m │\n",
              "├─────────────────────────────────┼────────────────────────┼───────────────┤\n",
              "│ dense_11 (\u001b[38;5;33mDense\u001b[0m)                │ (\u001b[38;5;45mNone\u001b[0m, \u001b[38;5;34m5\u001b[0m)              │           \u001b[38;5;34m645\u001b[0m │\n",
              "└─────────────────────────────────┴────────────────────────┴───────────────┘\n"
            ]
          },
          "metadata": {},
          "output_type": "display_data"
        },
        {
          "data": {
            "text/html": [
              "<pre style=\"white-space:pre;overflow-x:auto;line-height:normal;font-family:Menlo,'DejaVu Sans Mono',consolas,'Courier New',monospace\"><span style=\"font-weight: bold\"> Total params: </span><span style=\"color: #00af00; text-decoration-color: #00af00\">15,764,037</span> (60.14 MB)\n",
              "</pre>\n"
            ],
            "text/plain": [
              "\u001b[1m Total params: \u001b[0m\u001b[38;5;34m15,764,037\u001b[0m (60.14 MB)\n"
            ]
          },
          "metadata": {},
          "output_type": "display_data"
        },
        {
          "data": {
            "text/html": [
              "<pre style=\"white-space:pre;overflow-x:auto;line-height:normal;font-family:Menlo,'DejaVu Sans Mono',consolas,'Courier New',monospace\"><span style=\"font-weight: bold\"> Trainable params: </span><span style=\"color: #00af00; text-decoration-color: #00af00\">8,128,773</span> (31.01 MB)\n",
              "</pre>\n"
            ],
            "text/plain": [
              "\u001b[1m Trainable params: \u001b[0m\u001b[38;5;34m8,128,773\u001b[0m (31.01 MB)\n"
            ]
          },
          "metadata": {},
          "output_type": "display_data"
        },
        {
          "data": {
            "text/html": [
              "<pre style=\"white-space:pre;overflow-x:auto;line-height:normal;font-family:Menlo,'DejaVu Sans Mono',consolas,'Courier New',monospace\"><span style=\"font-weight: bold\"> Non-trainable params: </span><span style=\"color: #00af00; text-decoration-color: #00af00\">7,635,264</span> (29.13 MB)\n",
              "</pre>\n"
            ],
            "text/plain": [
              "\u001b[1m Non-trainable params: \u001b[0m\u001b[38;5;34m7,635,264\u001b[0m (29.13 MB)\n"
            ]
          },
          "metadata": {},
          "output_type": "display_data"
        }
      ],
      "source": [
        "# Ukuran gambar\n",
        "IMAGE_SIZE = 128\n",
        "NUM_CLASSES = 5  # Jumlah jenis bunga kertas + non bunga kertas\n",
        "\n",
        "# Load model VGG16 tanpa fully connected layers\n",
        "base_model = VGG16(input_shape=(IMAGE_SIZE, IMAGE_SIZE, 3), include_top=False, weights='imagenet')\n",
        "\n",
        "# Membekukan semua layer VGG16 agar tidak dilatih ulang\n",
        "for layer in base_model.layers:\n",
        "    layer.trainable = False\n",
        "\n",
        "# Mengaktifkan kembali 3 layer terakhir agar bisa dilatih\n",
        "for layer in base_model.layers[-5:]:\n",
        "    layer.trainable = True\n",
        "\n",
        "# Membangun model Sequential\n",
        "model = Sequential([\n",
        "    Input(shape=(IMAGE_SIZE, IMAGE_SIZE, 3)),  # Layer Input\n",
        "    base_model,  # VGG16 sebagai feature extractor\n",
        "    Flatten(),  # Konversi fitur ke vektor 1D\n",
        "    Dropout(0.3),  # Regularisasi untuk mencegah overfitting\n",
        "    Dense(128, activation='relu'),  # Fully Connected Layer dengan ReLU\n",
        "    Dropout(0.3),  # Dropout lagi untuk regularisasi\n",
        "    Dense(NUM_CLASSES, activation='softmax')  # Output layer dengan softmax\n",
        "])\n",
        "\n",
        "# Kompilasi model\n",
        "model.compile(optimizer=Adam(learning_rate=0.0001),\n",
        "              loss='sparse_categorical_crossentropy',\n",
        "              metrics=['sparse_categorical_accuracy'])\n",
        "\n",
        "# Menampilkan arsitektur model\n",
        "model.summary()\n"
      ]
    },
    {
      "cell_type": "code",
      "execution_count": 50,
      "id": "d1858f15",
      "metadata": {},
      "outputs": [
        {
          "name": "stdout",
          "output_type": "stream",
          "text": [
            "Epoch 1/3\n",
            "\u001b[1m12/12\u001b[0m \u001b[32m━━━━━━━━━━━━━━━━━━━━\u001b[0m\u001b[37m\u001b[0m \u001b[1m36s\u001b[0m 3s/step - loss: 1.6625 - sparse_categorical_accuracy: 0.3754 - val_loss: 0.6051 - val_sparse_categorical_accuracy: 0.7800\n",
            "Epoch 2/3\n",
            "\u001b[1m12/12\u001b[0m \u001b[32m━━━━━━━━━━━━━━━━━━━━\u001b[0m\u001b[37m\u001b[0m \u001b[1m50s\u001b[0m 5s/step - loss: 0.2568 - sparse_categorical_accuracy: 0.9171 - val_loss: 0.2402 - val_sparse_categorical_accuracy: 0.9100\n",
            "Epoch 3/3\n",
            "\u001b[1m12/12\u001b[0m \u001b[32m━━━━━━━━━━━━━━━━━━━━\u001b[0m\u001b[37m\u001b[0m \u001b[1m41s\u001b[0m 4s/step - loss: 0.0245 - sparse_categorical_accuracy: 0.9972 - val_loss: 0.1390 - val_sparse_categorical_accuracy: 0.9600\n"
          ]
        }
      ],
      "source": [
        "\n",
        "# Load dan siapkan data validasi dari test\n",
        "val_images = open_images(test_paths) \n",
        "val_labels = encode_label(test_labels) \n",
        "\n",
        "# Parameter\n",
        "batch_size = 32\n",
        "steps = int(len(train_paths) / batch_size) \n",
        "epochs = 3\n",
        "\n",
        "# Fit model dengan data augmentasi\n",
        "history = model.fit(datagen(train_paths, train_labels, batch_size=batch_size, epochs=epochs),\n",
        "                    epochs=epochs, steps_per_epoch=steps,\n",
        "                    validation_data=(val_images, val_labels))"
      ]
    },
    {
      "cell_type": "markdown",
      "id": "81184c83",
      "metadata": {
        "id": "81184c83",
        "papermill": {
          "duration": 0.103718,
          "end_time": "2023-04-15T05:49:44.658171",
          "exception": false,
          "start_time": "2023-04-15T05:49:44.554453",
          "status": "completed"
        },
        "tags": []
      },
      "source": [
        "# Train and Val Plots"
      ]
    },
    {
      "cell_type": "code",
      "execution_count": 51,
      "id": "099c0368",
      "metadata": {
        "_cell_guid": "f96bc030-c6bd-40ac-88e0-7cba6eee9189",
        "_uuid": "4d4d6acb-09f8-4ded-a879-f29476361fbc",
        "colab": {
          "base_uri": "https://localhost:8080/",
          "height": 419
        },
        "execution": {
          "iopub.execute_input": "2023-04-15T05:49:44.868301Z",
          "iopub.status.busy": "2023-04-15T05:49:44.867517Z",
          "iopub.status.idle": "2023-04-15T05:49:45.079477Z",
          "shell.execute_reply": "2023-04-15T05:49:45.078595Z"
        },
        "id": "099c0368",
        "jupyter": {
          "outputs_hidden": false
        },
        "outputId": "ac168ff7-68c2-4b97-e61d-71ed7f48bb31",
        "papermill": {
          "duration": 0.319641,
          "end_time": "2023-04-15T05:49:45.081780",
          "exception": false,
          "start_time": "2023-04-15T05:49:44.762139",
          "status": "completed"
        },
        "tags": []
      },
      "outputs": [
        {
          "data": {
            "image/png": "[encoded data removed]",
            "text/plain": [
              "<Figure size 1200x500 with 2 Axes>"
            ]
          },
          "metadata": {},
          "output_type": "display_data"
        }
      ],
      "source": [
        "plt.figure(figsize=(12, 5))\n",
        "\n",
        "# Subplot 1: Training & Validation Accuracy\n",
        "plt.subplot(1, 2, 1)  \n",
        "plt.grid(True)\n",
        "plt.plot(history.history['sparse_categorical_accuracy'], '.g-', linewidth=2, label=\"Training Accuracy\")\n",
        "plt.plot(history.history['val_sparse_categorical_accuracy'], '.b-', linewidth=2, label=\"Validation Accuracy\")\n",
        "plt.title('Training & Validation Accuracy')\n",
        "plt.xlabel('Epoch')\n",
        "plt.ylabel('Accuracy')\n",
        "plt.xticks(range(epochs))\n",
        "plt.legend()\n",
        "plt.grid(True)\n",
        "\n",
        "# Subplot 2: Training & Validation Loss\n",
        "plt.subplot(1, 2, 2)  \n",
        "plt.grid(True)\n",
        "plt.plot(history.history['loss'], '.r-', linewidth=2, label=\"Training Loss\")\n",
        "plt.plot(history.history['val_loss'], '.m-', linewidth=2, label=\"Validation Loss\")\n",
        "plt.title('Training & Validation Loss')\n",
        "plt.xlabel('Epoch')\n",
        "plt.ylabel('Loss')\n",
        "plt.xticks(range(epochs))\n",
        "plt.legend()\n",
        "plt.grid(True)\n",
        "\n",
        "plt.tight_layout()\n",
        "plt.show()"
      ]
    },
    {
      "cell_type": "markdown",
      "id": "ed9e79c6",
      "metadata": {
        "_cell_guid": "f132a6a9-891c-44fe-94d0-fe44d32171f6",
        "_uuid": "40e0bf35-6536-42c4-bbd9-cbce4a79d0d3",
        "id": "ed9e79c6",
        "papermill": {
          "duration": 0.104909,
          "end_time": "2023-04-15T05:49:45.291358",
          "exception": false,
          "start_time": "2023-04-15T05:49:45.186449",
          "status": "completed"
        },
        "tags": []
      },
      "source": [
        "# Model Classification Report"
      ]
    },
    {
      "cell_type": "code",
      "execution_count": 52,
      "id": "a57457b7",
      "metadata": {
        "_cell_guid": "e5858d69-0db6-45d6-860c-5dd2a11dad69",
        "_uuid": "cef6768b-c5ae-4598-97e7-f6b2511a7da9",
        "colab": {
          "base_uri": "https://localhost:8080/"
        },
        "execution": {
          "iopub.execute_input": "2023-04-15T05:49:45.713434Z",
          "iopub.status.busy": "2023-04-15T05:49:45.712649Z",
          "iopub.status.idle": "2023-04-15T05:51:46.715933Z",
          "shell.execute_reply": "2023-04-15T05:51:46.714616Z"
        },
        "id": "a57457b7",
        "jupyter": {
          "outputs_hidden": false
        },
        "outputId": "234e2869-4abe-4d05-8cc1-e2050347d002",
        "papermill": {
          "duration": 121.111726,
          "end_time": "2023-04-15T05:51:46.718586",
          "exception": false,
          "start_time": "2023-04-15T05:49:45.606860",
          "status": "completed"
        },
        "tags": []
      },
      "outputs": [
        {
          "name": "stdout",
          "output_type": "stream",
          "text": [
            "\u001b[1m4/4\u001b[0m \u001b[32m━━━━━━━━━━━━━━━━━━━━\u001b[0m\u001b[37m\u001b[0m \u001b[1m3s\u001b[0m 698ms/step\n",
            "Classification Report:\n",
            "              precision    recall  f1-score   support\n",
            "\n",
            "           0       1.00      0.85      0.92        20\n",
            "           1       1.00      1.00      1.00        20\n",
            "           2       1.00      1.00      1.00        20\n",
            "           3       0.95      1.00      0.98        20\n",
            "           4       0.91      1.00      0.95        20\n",
            "\n",
            "    accuracy                           0.97       100\n",
            "   macro avg       0.97      0.97      0.97       100\n",
            "weighted avg       0.97      0.97      0.97       100\n",
            "\n"
          ]
        }
      ],
      "source": [
        "# 1. Prediction on test data\n",
        "test_images = open_images(test_paths)  # Load and augment test images\n",
        "test_labels_encoded = encode_label(test_labels)  # Encode the test labels\n",
        "\n",
        "# Predict using the trained model\n",
        "test_predictions = model.predict(test_images)\n",
        "\n",
        "# 2. Classification Report\n",
        "print(\"Classification Report:\")\n",
        "print(classification_report(test_labels_encoded, np.argmax(test_predictions, axis=1)))"
      ]
    },
    {
      "cell_type": "markdown",
      "id": "3e09ad4a",
      "metadata": {
        "id": "3e09ad4a",
        "papermill": {
          "duration": 0.110224,
          "end_time": "2023-04-15T05:51:46.939956",
          "exception": false,
          "start_time": "2023-04-15T05:51:46.829732",
          "status": "completed"
        },
        "tags": []
      },
      "source": [
        "# Model Confusion Plot"
      ]
    },
    {
      "cell_type": "code",
      "execution_count": 53,
      "id": "d49daecc",
      "metadata": {
        "_cell_guid": "001b735d-3524-4dbb-87c2-c80a39f47d23",
        "_uuid": "b36ad67c-430c-4fb5-99da-45147a63bf9e",
        "colab": {
          "base_uri": "https://localhost:8080/",
          "height": 660
        },
        "execution": {
          "iopub.execute_input": "2023-04-15T05:51:47.163057Z",
          "iopub.status.busy": "2023-04-15T05:51:47.161692Z",
          "iopub.status.idle": "2023-04-15T05:51:47.187920Z",
          "shell.execute_reply": "2023-04-15T05:51:47.186781Z"
        },
        "id": "d49daecc",
        "jupyter": {
          "outputs_hidden": false
        },
        "outputId": "a73b2580-3ceb-4e99-c96e-643953a1dce2",
        "papermill": {
          "duration": 0.139858,
          "end_time": "2023-04-15T05:51:47.190085",
          "exception": false,
          "start_time": "2023-04-15T05:51:47.050227",
          "status": "completed"
        },
        "tags": []
      },
      "outputs": [
        {
          "data": {
            "image/png": "[encoded data removed]",
            "text/plain": [
              "<Figure size 800x600 with 2 Axes>"
            ]
          },
          "metadata": {},
          "output_type": "display_data"
        }
      ],
      "source": [
        "# 3. Confusion Matrix\n",
        "conf_matrix = confusion_matrix(test_labels_encoded, np.argmax(test_predictions, axis=1))\n",
        "\n",
        "# Plot the Confusion Matrix\n",
        "plt.figure(figsize=(8, 6))\n",
        "sns.heatmap(conf_matrix, annot=True, fmt=\"d\", cmap=\"Blues\", xticklabels=os.listdir(train_dir), yticklabels=os.listdir(train_dir))\n",
        "plt.title(\"Confusion Matrix\")\n",
        "plt.xlabel(\"Predicted Labels\")\n",
        "plt.ylabel(\"True Labels\")\n",
        "plt.show()"
      ]
    },
    {
      "cell_type": "markdown",
      "id": "4O06HDWvlwgm",
      "metadata": {
        "id": "4O06HDWvlwgm"
      },
      "source": [
        "# Save & Load Model"
      ]
    },
    {
      "cell_type": "code",
      "execution_count": 80,
      "id": "8n9cD52wlv23",
      "metadata": {
        "colab": {
          "base_uri": "https://localhost:8080/"
        },
        "id": "8n9cD52wlv23",
        "outputId": "e03d8fd3-8809-4bee-fc76-a17f80326510"
      },
      "outputs": [
        {
          "name": "stderr",
          "output_type": "stream",
          "text": [
            "WARNING:absl:You are saving your model as an HDF5 file via `model.save()` or `keras.saving.save_model(model)`. This file format is considered legacy. We recommend using instead the native Keras format, e.g. `model.save('my_model.keras')` or `keras.saving.save_model(model, 'my_model.keras')`. \n"
          ]
        }
      ],
      "source": [
        "# Save the entire model\n",
        "model.save('model.h5')"
      ]
    },
    {
      "cell_type": "code",
      "execution_count": 78,
      "id": "a5531826",
      "metadata": {},
      "outputs": [
        {
          "name": "stdout",
          "output_type": "stream",
          "text": [
            "\u001b[1m1/1\u001b[0m \u001b[32m━━━━━━━━━━━━━━━━━━━━\u001b[0m\u001b[37m\u001b[0m \u001b[1m0s\u001b[0m 108ms/step\n",
            "Hasil klasifikasi: spectabilis\n",
            "\n",
            "Probabilitas masing-masing kelas:\n",
            "- afterglow: 0.00%\n",
            "- coconutice: 0.00%\n",
            "- glabra: 0.00%\n",
            "- goldrush: 0.00%\n",
            "- spectabilis: 100.00%\n"
          ]
        }
      ],
      "source": [
        "# Ambil urutan label dari direktori training agar sesuai dengan model\n",
        "labels = os.listdir(train_dir)\n",
        "\n",
        "# Fungsi preprocessing gambar (mengikuti pipeline training)\n",
        "def load_and_preprocess_image(image_path):\n",
        "    image = load_img(image_path, target_size=(IMAGE_SIZE, IMAGE_SIZE))\n",
        "    # image = np.array(image) / 255.0\n",
        "    image = np.expand_dims(image, axis=0)\n",
        "    return image\n",
        "\n",
        "threshold = 75\n",
        "\n",
        "# Load dan preprocess gambar\n",
        "img = load_and_preprocess_image(r'D:\\Ara\\Testing\\ini-jenis-jenis-bunga-bugenvil-894919e6810182a.jpeg')\n",
        "\n",
        "# Prediksi model\n",
        "predictions = model.predict(img)[0]\n",
        "\n",
        "# Hitung persentase probabilitas\n",
        "pred_percent = [float(p) * 100 for p in predictions]\n",
        "\n",
        "# Dapatkan indeks prediksi tertinggi dan confidence-nya\n",
        "max_index = np.argmax(predictions)\n",
        "confidence = round(pred_percent[max_index], 2)\n",
        "hasil_klasifikasi = labels[max_index]\n",
        "\n",
        "# Cetak hasil\n",
        "print(\"Hasil klasifikasi:\", hasil_klasifikasi)\n",
        "print(\"\\nProbabilitas masing-masing kelas:\")\n",
        "for label, percent in zip(labels, pred_percent):\n",
        "    print(f\"- {label}: {percent:.2f}%\")\n"
      ]
    }
  ],
  "metadata": {
    "accelerator": "GPU",
    "colab": {
      "gpuType": "T4",
      "provenance": []
    },
    "kernelspec": {
      "display_name": "myenv",
      "language": "python",
      "name": "python3"
    },
    "language_info": {
      "codemirror_mode": {
        "name": "ipython",
        "version": 3
      },
      "file_extension": ".py",
      "mimetype": "text/x-python",
      "name": "python",
      "nbconvert_exporter": "python",
      "pygments_lexer": "ipython3",
      "version": "3.12.4"
    },
    "papermill": {
      "default_parameters": {},
      "duration": 2970.52571,
      "end_time": "2023-04-15T05:51:53.396586",
      "environment_variables": {},
      "exception": null,
      "input_path": "__notebook__.ipynb",
      "output_path": "__notebook__.ipynb",
      "parameters": {},
      "start_time": "2023-04-15T05:02:22.870876",
      "version": "2.3.4"
    }
  },
  "nbformat": 4,
  "nbformat_minor": 5
}
